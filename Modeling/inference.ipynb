{
 "cells": [
  {
   "cell_type": "code",
   "execution_count": 1,
   "metadata": {},
   "outputs": [
    {
     "name": "stderr",
     "output_type": "stream",
     "text": [
      "/home/ec2-user/.conda/envs/yolov5/lib/python3.8/site-packages/tqdm/auto.py:22: TqdmWarning: IProgress not found. Please update jupyter and ipywidgets. See https://ipywidgets.readthedocs.io/en/stable/user_install.html\n",
      "  from .autonotebook import tqdm as notebook_tqdm\n"
     ]
    }
   ],
   "source": [
    "import cv2\n",
    "import torch\n",
    "import json\n",
    "import pandas as pd\n",
    "from PIL import Image\n",
    "import torch"
   ]
  },
  {
   "cell_type": "code",
   "execution_count": 2,
   "metadata": {},
   "outputs": [],
   "source": [
    "categories={\n",
    "    0 : 'onion',\n",
    "    1 : 'garlic',\n",
    "    2 : 'carrot',\n",
    "    3 : 'paprika',\n",
    "    4 : 'chili',\n",
    "    5 : 'egg',\n",
    "    6 : 'tofu',\n",
    "    7 : 'mushroom',\n",
    "    8 : 'potato',\n",
    "    9 : 'daikon',\n",
    "    10 : 'sweet pumpkin',\n",
    "    11 : 'green onion',\n",
    "    12 : 'milk',\n",
    "    13 : 'tomato',\n",
    "    14 : 'young squash',\n",
    "    15 : 'chives',\n",
    "    16 : 'cucumber',\n",
    "    17 : 'ginger',\n",
    "    18 : 'sweet potato',\n",
    "    19 : 'eggplant',\n",
    "    20 : 'basil',\n",
    "    21 : 'spinach',\n",
    "    22 : 'lettuce',\n",
    "    23 : 'napa cabbage',\n",
    "    24 : 'cabbage'\n",
    "}"
   ]
  },
  {
   "cell_type": "code",
   "execution_count": 7,
   "metadata": {},
   "outputs": [
    {
     "name": "stderr",
     "output_type": "stream",
     "text": [
      "YOLOv5 🚀 v6.2-46-g06831aa Python-3.8.13 torch-1.12.1+cu102 CUDA:0 (Tesla M60, 7619MiB)\n",
      "\n",
      "Fusing layers... \n",
      "YOLOv5x6 summary: 574 layers, 140201560 parameters, 0 gradients, 208.4 GFLOPs\n",
      "Adding AutoShape... \n"
     ]
    }
   ],
   "source": [
    "# exp_name 수정하여 weights Load\n",
    "exp_name = '0406_fold3_yolov5x6'\n",
    "test_s = 1\n",
    "\n",
    "model = torch.hub.load('.', 'custom', path= f'/home/ec2-user/LogicKurly-AI/yolov5/kurly_JS/exp/weights/best.pt', source='local')\n",
    "model.conf = 0.001  # confidence threshold (0-1)\n",
    "model.iou = 0.6  # NMS IoU threshold (0-1)\n",
    "\n",
    "predict_category = []\n",
    "acc=[]\n",
    "bbox_rec=[]\n",
    "\n",
    "img = Image.open('/home/ec2-user/LogicKurly-AI/test_data/test_03.jpg')\n",
    "\n",
    "results = model(img, size=512, augment=True)\n",
    "for bbox in results.pandas().xyxy[0].values:\n",
    "    xmin, ymin, xmax, ymax, confidence, cls, name = bbox\n",
    "\n",
    "    predict_category.append(categories[cls])\n",
    "    acc.append(confidence)\n",
    "    bbox_rec.append(f'{xmin} {ymin} {xmax} {ymax}')\n",
    "\n",
    "raw_data ={\n",
    "    'predict_category' : predict_category,\n",
    "    'acc' : acc,\n",
    "    'bbox_rec' : bbox_rec,\n",
    "}\n",
    "\n",
    "dataframe = pd.DataFrame(raw_data)"
   ]
  },
  {
   "cell_type": "code",
   "execution_count": 8,
   "metadata": {},
   "outputs": [
    {
     "data": {
      "text/html": [
       "<div>\n",
       "<style scoped>\n",
       "    .dataframe tbody tr th:only-of-type {\n",
       "        vertical-align: middle;\n",
       "    }\n",
       "\n",
       "    .dataframe tbody tr th {\n",
       "        vertical-align: top;\n",
       "    }\n",
       "\n",
       "    .dataframe thead th {\n",
       "        text-align: right;\n",
       "    }\n",
       "</style>\n",
       "<table border=\"1\" class=\"dataframe\">\n",
       "  <thead>\n",
       "    <tr style=\"text-align: right;\">\n",
       "      <th></th>\n",
       "      <th>predict_category</th>\n",
       "      <th>acc</th>\n",
       "      <th>bbox_rec</th>\n",
       "    </tr>\n",
       "  </thead>\n",
       "  <tbody>\n",
       "    <tr>\n",
       "      <th>0</th>\n",
       "      <td>garlic</td>\n",
       "      <td>0.375507</td>\n",
       "      <td>757.87939453125 646.7379760742188 765.36315917...</td>\n",
       "    </tr>\n",
       "    <tr>\n",
       "      <th>1</th>\n",
       "      <td>garlic</td>\n",
       "      <td>0.336315</td>\n",
       "      <td>865.1510620117188 457.5860595703125 899.069274...</td>\n",
       "    </tr>\n",
       "    <tr>\n",
       "      <th>2</th>\n",
       "      <td>garlic</td>\n",
       "      <td>0.320181</td>\n",
       "      <td>787.4352416992188 458.06787109375 813.88995361...</td>\n",
       "    </tr>\n",
       "    <tr>\n",
       "      <th>3</th>\n",
       "      <td>garlic</td>\n",
       "      <td>0.313808</td>\n",
       "      <td>621.4757690429688 651.1724243164062 635.679626...</td>\n",
       "    </tr>\n",
       "    <tr>\n",
       "      <th>4</th>\n",
       "      <td>garlic</td>\n",
       "      <td>0.292455</td>\n",
       "      <td>876.40625 453.4782409667969 918.5947265625 566...</td>\n",
       "    </tr>\n",
       "    <tr>\n",
       "      <th>...</th>\n",
       "      <td>...</td>\n",
       "      <td>...</td>\n",
       "      <td>...</td>\n",
       "    </tr>\n",
       "    <tr>\n",
       "      <th>995</th>\n",
       "      <td>onion</td>\n",
       "      <td>0.004428</td>\n",
       "      <td>504.3016357421875 219.13504028320312 614.09753...</td>\n",
       "    </tr>\n",
       "    <tr>\n",
       "      <th>996</th>\n",
       "      <td>lettuce</td>\n",
       "      <td>0.004425</td>\n",
       "      <td>768.2049560546875 691.010986328125 856.7918701...</td>\n",
       "    </tr>\n",
       "    <tr>\n",
       "      <th>997</th>\n",
       "      <td>chili</td>\n",
       "      <td>0.004423</td>\n",
       "      <td>649.1611938476562 766.15625 729.1676635742188 ...</td>\n",
       "    </tr>\n",
       "    <tr>\n",
       "      <th>998</th>\n",
       "      <td>chili</td>\n",
       "      <td>0.004402</td>\n",
       "      <td>904.4871826171875 471.85577392578125 959.93908...</td>\n",
       "    </tr>\n",
       "    <tr>\n",
       "      <th>999</th>\n",
       "      <td>lettuce</td>\n",
       "      <td>0.004400</td>\n",
       "      <td>584.2578735351562 310.0986328125 632.387756347...</td>\n",
       "    </tr>\n",
       "  </tbody>\n",
       "</table>\n",
       "<p>1000 rows × 3 columns</p>\n",
       "</div>"
      ],
      "text/plain": [
       "    predict_category       acc  \\\n",
       "0             garlic  0.375507   \n",
       "1             garlic  0.336315   \n",
       "2             garlic  0.320181   \n",
       "3             garlic  0.313808   \n",
       "4             garlic  0.292455   \n",
       "..               ...       ...   \n",
       "995            onion  0.004428   \n",
       "996          lettuce  0.004425   \n",
       "997            chili  0.004423   \n",
       "998            chili  0.004402   \n",
       "999          lettuce  0.004400   \n",
       "\n",
       "                                              bbox_rec  \n",
       "0    757.87939453125 646.7379760742188 765.36315917...  \n",
       "1    865.1510620117188 457.5860595703125 899.069274...  \n",
       "2    787.4352416992188 458.06787109375 813.88995361...  \n",
       "3    621.4757690429688 651.1724243164062 635.679626...  \n",
       "4    876.40625 453.4782409667969 918.5947265625 566...  \n",
       "..                                                 ...  \n",
       "995  504.3016357421875 219.13504028320312 614.09753...  \n",
       "996  768.2049560546875 691.010986328125 856.7918701...  \n",
       "997  649.1611938476562 766.15625 729.1676635742188 ...  \n",
       "998  904.4871826171875 471.85577392578125 959.93908...  \n",
       "999  584.2578735351562 310.0986328125 632.387756347...  \n",
       "\n",
       "[1000 rows x 3 columns]"
      ]
     },
     "execution_count": 8,
     "metadata": {},
     "output_type": "execute_result"
    }
   ],
   "source": [
    "dataframe"
   ]
  },
  {
   "cell_type": "code",
   "execution_count": 9,
   "metadata": {},
   "outputs": [
    {
     "data": {
      "text/plain": [
       "array(['garlic', 'paprika', 'chili', 'sweet potato', 'tomato', 'onion', 'basil', 'napa cabbage', 'daikon', 'cucumber', 'chives', 'lettuce', 'tofu', 'potato', 'carrot', 'eggplant', 'cabbage', 'young squash', 'ginger', 'egg', 'green onion', 'mushroom', 'spinach', 'sweet pumpkin', 'milk'], dtype=object)"
      ]
     },
     "execution_count": 9,
     "metadata": {},
     "output_type": "execute_result"
    }
   ],
   "source": [
    "dataframe['predict_category'].unique()"
   ]
  }
 ],
 "metadata": {
  "interpreter": {
   "hash": "b1adecf61608116ebf1c4a1f8b4ad786c0736c086468ebf363eb07c97fd58602"
  },
  "kernelspec": {
   "display_name": "Python 3.8.13 ('yolov5')",
   "language": "python",
   "name": "python3"
  },
  "language_info": {
   "codemirror_mode": {
    "name": "ipython",
    "version": 3
   },
   "file_extension": ".py",
   "mimetype": "text/x-python",
   "name": "python",
   "nbconvert_exporter": "python",
   "pygments_lexer": "ipython3",
   "version": "3.8.13"
  },
  "orig_nbformat": 4
 },
 "nbformat": 4,
 "nbformat_minor": 2
}
