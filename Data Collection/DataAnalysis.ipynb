{
  "cells": [
    {
      "cell_type": "code",
      "execution_count": null,
      "metadata": {
        "id": "HRj_tu-1Cmak"
      },
      "outputs": [],
      "source": [
        "import json \n",
        "import re\n",
        "import pandas as pd \n",
        "from pandas.io.json import json_normalize\n",
        "\n",
        "from urllib.request import Request, urlopen  \n",
        "from urllib.parse import urlencode, quote_plus "
      ]
    },
    {
      "cell_type": "code",
      "execution_count": null,
      "metadata": {
        "id": "varp1MJ0C09m"
      },
      "outputs": [],
      "source": [
        "key = ''\n",
        "data_tybe = 'json'\n",
        "# 레시피 1000개 단위 호출 \n",
        "url = 'http://openapi.foodsafetykorea.go.kr/api/'+key+'/COOKRCP01/'+data_tybe+'/1/1000'"
      ]
    },
    {
      "cell_type": "code",
      "execution_count": null,
      "metadata": {
        "id": "v5-jk4_XbIYN"
      },
      "outputs": [],
      "source": [
        "def check_only_kr(text: str) -> int:\n",
        "\n",
        "    for chr in text:\n",
        "        if ord('가') <= ord(chr) <= ord('힣'):\n",
        "            continue\n",
        "        else:\n",
        "            return 0\n",
        "    return 1"
      ]
    },
    {
      "cell_type": "code",
      "execution_count": null,
      "metadata": {
        "id": "3SqeaYkaK9cm"
      },
      "outputs": [],
      "source": [
        "response_body=urlopen(url).read().decode('utf-8')\n",
        "json_object = json.loads(response_body)\n",
        "\n",
        "gredients=[]\n",
        "\n",
        "# 레시피 내 식재료 gredients list에 저장 (1~1000)\n",
        "for i in range(1000):\n",
        "    recipe=json_object['COOKRCP01']['row'][i]['RCP_PARTS_DTLS'].split('\\n')[1::2]\n",
        "    for lst in recipe:\n",
        "        gredient=lst.split()\n",
        "        for word in gredient:\n",
        "            if check_only_kr(word):\n",
        "                gredients.append(word)"
      ]
    },
    {
      "cell_type": "code",
      "execution_count": null,
      "metadata": {
        "id": "1FXcdwPYcI5_"
      },
      "outputs": [],
      "source": [
        "url = 'http://openapi.foodsafetykorea.go.kr/api/'+key+'/COOKRCP01/'+data_tybe+'/1001/1358'"
      ]
    },
    {
      "cell_type": "code",
      "execution_count": null,
      "metadata": {
        "id": "Z7uU-IdzcS9x"
      },
      "outputs": [],
      "source": [
        "response_body=urlopen(url).read().decode('utf-8')\n",
        "json_object = json.loads(response_body)\n",
        "\n",
        "# 레시피 내 식재료 gredients list에 저장 (1001~1358)\n",
        "for i in range(358):\n",
        "    recipe=json_object['COOKRCP01']['row'][i]['RCP_PARTS_DTLS'].split('\\n')[1::2]\n",
        "    for lst in recipe:\n",
        "        gredient=lst.split()\n",
        "        for word in gredient:\n",
        "            if check_only_kr(word):\n",
        "                gredients.append(word)"
      ]
    },
    {
      "cell_type": "code",
      "execution_count": null,
      "metadata": {
        "id": "gY4Rz1fCYSxA"
      },
      "outputs": [],
      "source": [
        "from collections import Counter\n",
        "# 레시피에 들어가는 상위 25개의 식재료 확인\n",
        "gredients_cnt=Counter(gredients).most_common(25)"
      ]
    }
  ],
  "metadata": {
    "colab": {
      "name": "Untitled42.ipynb",
      "provenance": []
    },
    "kernelspec": {
      "display_name": "Python 3",
      "name": "python3"
    },
    "language_info": {
      "name": "python"
    }
  },
  "nbformat": 4,
  "nbformat_minor": 0
}
