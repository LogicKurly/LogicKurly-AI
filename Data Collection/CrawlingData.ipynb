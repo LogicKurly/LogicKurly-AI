{
 "cells": [
  {
   "cell_type": "code",
   "execution_count": 2,
   "metadata": {},
   "outputs": [
    {
     "name": "stdout",
     "output_type": "stream",
     "text": [
      "전체 이미지 개수 :  76\n"
     ]
    }
   ],
   "source": [
    "import json\n",
    "import glob\n",
    "\n",
    "json_file = glob.glob('../../Crawling/json/*.json')\n",
    "\n",
    "print(\"전체 이미지 개수 : \", len(json_file))"
   ]
  },
  {
   "cell_type": "code",
   "execution_count": 4,
   "metadata": {},
   "outputs": [],
   "source": [
    "for file_name in json_file:\n",
    "    with open(file_name, 'r') as f:\n",
    "        json_data = json.load(f)\n",
    "        categories = json_data['categories']\n",
    "        break "
   ]
  },
  {
   "cell_type": "code",
   "execution_count": 6,
   "metadata": {},
   "outputs": [
    {
     "data": {
      "text/plain": [
       "[{'id': 0, 'name': 'onion', 'count': 0},\n",
       " {'id': 1, 'name': 'garlic', 'count': 0},\n",
       " {'id': 2, 'name': 'carrot', 'count': 0},\n",
       " {'id': 3, 'name': 'paprika', 'count': 0},\n",
       " {'id': 4, 'name': 'chili', 'count': 41},\n",
       " {'id': 5, 'name': 'egg', 'count': 0},\n",
       " {'id': 6, 'name': 'tofu', 'count': 0},\n",
       " {'id': 7, 'name': 'mushroom', 'count': 0},\n",
       " {'id': 8, 'name': 'potato', 'count': 0},\n",
       " {'id': 9, 'name': 'daikon', 'count': 0},\n",
       " {'id': 10, 'name': 'sweet pumpkin', 'count': 0},\n",
       " {'id': 11, 'name': 'green onion', 'count': 0},\n",
       " {'id': 12, 'name': 'milk', 'count': 0},\n",
       " {'id': 13, 'name': 'tomato', 'count': 0},\n",
       " {'id': 14, 'name': 'young squash', 'count': 0},\n",
       " {'id': 15, 'name': 'chives', 'count': 0},\n",
       " {'id': 16, 'name': 'cucumber', 'count': 0},\n",
       " {'id': 17, 'name': 'ginger', 'count': 0},\n",
       " {'id': 18, 'name': 'sweet potato', 'count': 0},\n",
       " {'id': 19, 'name': 'eggplant', 'count': 0},\n",
       " {'id': 20, 'name': 'basil', 'count': 0},\n",
       " {'id': 21, 'name': 'spinach', 'count': 0},\n",
       " {'id': 22, 'name': 'lettuce', 'count': 0},\n",
       " {'id': 23, 'name': 'napa cabbage', 'count': 0},\n",
       " {'id': 24, 'name': 'cabbage', 'count': 0}]"
      ]
     },
     "execution_count": 6,
     "metadata": {},
     "output_type": "execute_result"
    }
   ],
   "source": [
    "categories"
   ]
  },
  {
   "cell_type": "code",
   "execution_count": 7,
   "metadata": {},
   "outputs": [
    {
     "data": {
      "text/plain": [
       "[{'id': 0, 'name': 'onion', 'count': 114},\n",
       " {'id': 1, 'name': 'garlic', 'count': 133},\n",
       " {'id': 2, 'name': 'carrot', 'count': 170},\n",
       " {'id': 3, 'name': 'paprika', 'count': 8},\n",
       " {'id': 4, 'name': 'chili', 'count': 269},\n",
       " {'id': 5, 'name': 'egg', 'count': 139},\n",
       " {'id': 6, 'name': 'tofu', 'count': 0},\n",
       " {'id': 7, 'name': 'mushroom', 'count': 11},\n",
       " {'id': 8, 'name': 'potato', 'count': 131},\n",
       " {'id': 9, 'name': 'daikon', 'count': 0},\n",
       " {'id': 10, 'name': 'sweet pumpkin', 'count': 1},\n",
       " {'id': 11, 'name': 'green onion', 'count': 60},\n",
       " {'id': 12, 'name': 'milk', 'count': 11},\n",
       " {'id': 13, 'name': 'tomato', 'count': 336},\n",
       " {'id': 14, 'name': 'young squash', 'count': 100},\n",
       " {'id': 15, 'name': 'chives', 'count': 0},\n",
       " {'id': 16, 'name': 'cucumber', 'count': 42},\n",
       " {'id': 17, 'name': 'ginger', 'count': 8},\n",
       " {'id': 18, 'name': 'sweet potato', 'count': 4},\n",
       " {'id': 19, 'name': 'eggplant', 'count': 3},\n",
       " {'id': 20, 'name': 'basil', 'count': 130},\n",
       " {'id': 21, 'name': 'spinach', 'count': 1},\n",
       " {'id': 22, 'name': 'lettuce', 'count': 33},\n",
       " {'id': 23, 'name': 'napa cabbage', 'count': 1},\n",
       " {'id': 24, 'name': 'cabbage', 'count': 21}]"
      ]
     },
     "execution_count": 7,
     "metadata": {},
     "output_type": "execute_result"
    }
   ],
   "source": [
    "# check num of images \n",
    "for category in categories:\n",
    "    category['count'] = 0\n",
    "\n",
    "for file_name in json_file:\n",
    "    with open(file_name, 'r') as f:\n",
    "        json_data = json.load(f)\n",
    "    \n",
    "    for annotation in json_data['annotations']:\n",
    "        for category in categories:\n",
    "            if category['id'] == annotation['category_id']:\n",
    "                category['count'] += 1\n",
    "\n",
    "categories"
   ]
  },
  {
   "cell_type": "code",
   "execution_count": 8,
   "metadata": {},
   "outputs": [
    {
     "name": "stdout",
     "output_type": "stream",
     "text": [
      "{'id': 0, 'name': 'onion', 'count': 114}\n",
      "{'id': 1, 'name': 'garlic', 'count': 133}\n",
      "{'id': 2, 'name': 'carrot', 'count': 170}\n",
      "{'id': 3, 'name': 'paprika', 'count': 8}\n",
      "{'id': 4, 'name': 'chili', 'count': 269}\n",
      "{'id': 5, 'name': 'egg', 'count': 139}\n",
      "{'id': 7, 'name': 'mushroom', 'count': 11}\n",
      "{'id': 8, 'name': 'potato', 'count': 131}\n",
      "{'id': 10, 'name': 'sweet pumpkin', 'count': 1}\n",
      "{'id': 11, 'name': 'green onion', 'count': 60}\n",
      "{'id': 12, 'name': 'milk', 'count': 11}\n",
      "{'id': 13, 'name': 'tomato', 'count': 336}\n",
      "{'id': 14, 'name': 'young squash', 'count': 100}\n",
      "{'id': 16, 'name': 'cucumber', 'count': 42}\n",
      "{'id': 17, 'name': 'ginger', 'count': 8}\n",
      "{'id': 18, 'name': 'sweet potato', 'count': 4}\n",
      "{'id': 19, 'name': 'eggplant', 'count': 3}\n",
      "{'id': 20, 'name': 'basil', 'count': 130}\n",
      "{'id': 21, 'name': 'spinach', 'count': 1}\n",
      "{'id': 22, 'name': 'lettuce', 'count': 33}\n",
      "{'id': 23, 'name': 'napa cabbage', 'count': 1}\n",
      "{'id': 24, 'name': 'cabbage', 'count': 21}\n"
     ]
    }
   ],
   "source": [
    "for category in categories:\n",
    "    if category['count'] != 0:\n",
    "        print(category)"
   ]
  },
  {
   "cell_type": "code",
   "execution_count": 9,
   "metadata": {},
   "outputs": [
    {
     "name": "stdout",
     "output_type": "stream",
     "text": [
      "{'id': 6, 'name': 'tofu', 'count': 0}\n",
      "{'id': 9, 'name': 'daikon', 'count': 0}\n",
      "{'id': 15, 'name': 'chives', 'count': 0}\n"
     ]
    }
   ],
   "source": [
    "for category in categories:\n",
    "    if category['count'] == 0:\n",
    "        print(category)"
   ]
  },
  {
   "cell_type": "code",
   "execution_count": null,
   "metadata": {},
   "outputs": [],
   "source": []
  }
 ],
 "metadata": {
  "kernelspec": {
   "display_name": "Python 3.9.12 ('base')",
   "language": "python",
   "name": "python3"
  },
  "language_info": {
   "codemirror_mode": {
    "name": "ipython",
    "version": 3
   },
   "file_extension": ".py",
   "mimetype": "text/x-python",
   "name": "python",
   "nbconvert_exporter": "python",
   "pygments_lexer": "ipython3",
   "version": "3.9.12"
  },
  "orig_nbformat": 4,
  "vscode": {
   "interpreter": {
    "hash": "ad2bdc8ecc057115af97d19610ffacc2b4e99fae6737bb82f5d7fb13d2f2c186"
   }
  }
 },
 "nbformat": 4,
 "nbformat_minor": 2
}
